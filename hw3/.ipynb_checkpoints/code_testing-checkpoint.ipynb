
{
 "cells": [
  {
   "cell_type": "code",
   "execution_count": 1,
   "metadata": {
    "collapsed": true
   },
   "outputs": [],
   "source": [
    "#Python3\n",
    "import numpy as np\n",
    "import csv\n",
    "import matplotlib.pylab as plt\n",
    "import sys\n",
    "\n",
    "def read_file(filename):\n",
    "    data = []\n",
    "    with open('data/%s'%filename) as file:\n",
    "        content = csv.reader(file)\n",
    "        for c in content:\n",
    "            data.append(c)\n",
    "    return np.matrix(data).astype(np.float32)\n",
    "\n",
    "X_train = read_file('boosting/X_train.csv')\n",
    "X_test = read_file('boosting/X_test.csv')\n",
    "Y_train = read_file('boosting/y_train.csv')\n",
    "Y_test = read_file('boosting/y_test.csv')\n",
    "assert np.shape(X_train)==(1036,5)\n",
    "assert np.shape(X_test)==(1000,5)\n",
    "assert np.shape(Y_train)==(1036,1)\n",
    "assert np.shape(Y_test)==(1000,1)"
   ]
  },
  {
   "cell_type": "code",
   "execution_count": 2,
   "metadata": {
    "collapsed": true
   },
   "outputs": [],
   "source": [
    "class boosted_linear_classifier(object):\n",
    "    \n",
    "    def __init__(self,Xtrain,ytrain,Xtest,ytest):\n",
    "        self.n_train = Xtrain.shape[0]\n",
    "        self.sample_weights = np.repeat(1/self.n_train,\n",
    "                                        self.n_train).reshape(-1,1)\n",
    "        self.Xtrain = Xtrain\n",
    "        self.Xtest = Xtest\n",
    "        self.ytrain = ytrain\n",
    "        self.ytest = ytest\n",
    "\n",
    "        #record running totals for the final prediction:\n",
    "        self.total_pred_train_mag = 0\n",
    "        self.total_pred_test_mag = 0\n",
    "\n",
    "        #recording for charts later\n",
    "        self.train_errors = []\n",
    "        self.test_errors = []\n",
    "        self.boost_eps = []\n",
    "        self.boost_alphas = []\n",